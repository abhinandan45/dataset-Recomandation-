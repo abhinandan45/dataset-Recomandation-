{
 "cells": [
  {
   "cell_type": "code",
   "execution_count": 7,
   "id": "9302a050",
   "metadata": {},
   "outputs": [],
   "source": [
    "import pandas as pd\n",
    "from sklearn.feature_extraction.text import TfidfVectorizer\n",
    "from sklearn.neighbors import NearestNeighbors\n",
    "import joblib"
   ]
  },
  {
   "cell_type": "code",
   "execution_count": 3,
   "id": "1ca9fba9",
   "metadata": {},
   "outputs": [],
   "source": [
    "df = pd.read_csv(r\"kaggle-preprocessed.csv\")"
   ]
  },
  {
   "cell_type": "code",
   "execution_count": 4,
   "id": "36300ee0",
   "metadata": {},
   "outputs": [
    {
     "data": {
      "text/html": [
       "<div>\n",
       "<style scoped>\n",
       "    .dataframe tbody tr th:only-of-type {\n",
       "        vertical-align: middle;\n",
       "    }\n",
       "\n",
       "    .dataframe tbody tr th {\n",
       "        vertical-align: top;\n",
       "    }\n",
       "\n",
       "    .dataframe thead th {\n",
       "        text-align: right;\n",
       "    }\n",
       "</style>\n",
       "<table border=\"1\" class=\"dataframe\">\n",
       "  <thead>\n",
       "    <tr style=\"text-align: right;\">\n",
       "      <th></th>\n",
       "      <th>Unnamed: 0</th>\n",
       "      <th>Dataset_name</th>\n",
       "      <th>Author_name</th>\n",
       "      <th>Author_id</th>\n",
       "      <th>No_of_files</th>\n",
       "      <th>size</th>\n",
       "      <th>Type_of_file</th>\n",
       "      <th>Upvotes</th>\n",
       "      <th>Medals</th>\n",
       "      <th>Usability</th>\n",
       "      <th>Date</th>\n",
       "      <th>Day</th>\n",
       "      <th>Time</th>\n",
       "      <th>Dataset_link</th>\n",
       "    </tr>\n",
       "  </thead>\n",
       "  <tbody>\n",
       "    <tr>\n",
       "      <th>0</th>\n",
       "      <td>0</td>\n",
       "      <td>Hotel Reservations Dataset</td>\n",
       "      <td>Ahsan Raza</td>\n",
       "      <td>https://www.kaggle.com/ahsan81</td>\n",
       "      <td>1</td>\n",
       "      <td>491 kB</td>\n",
       "      <td>CSV</td>\n",
       "      <td>315</td>\n",
       "      <td>Silver</td>\n",
       "      <td>10.0</td>\n",
       "      <td>1/04/2023</td>\n",
       "      <td>Wed</td>\n",
       "      <td>18:20:31</td>\n",
       "      <td>https://www.kaggle.com/datasets/ahsan81/hotel-...</td>\n",
       "    </tr>\n",
       "  </tbody>\n",
       "</table>\n",
       "</div>"
      ],
      "text/plain": [
       "   Unnamed: 0                Dataset_name Author_name  \\\n",
       "0           0  Hotel Reservations Dataset  Ahsan Raza   \n",
       "\n",
       "                        Author_id  No_of_files    size Type_of_file  Upvotes  \\\n",
       "0  https://www.kaggle.com/ahsan81            1  491 kB          CSV      315   \n",
       "\n",
       "   Medals  Usability       Date  Day      Time  \\\n",
       "0  Silver       10.0  1/04/2023  Wed  18:20:31   \n",
       "\n",
       "                                        Dataset_link  \n",
       "0  https://www.kaggle.com/datasets/ahsan81/hotel-...  "
      ]
     },
     "execution_count": 4,
     "metadata": {},
     "output_type": "execute_result"
    }
   ],
   "source": [
    "df.head(1)"
   ]
  },
  {
   "cell_type": "code",
   "execution_count": 5,
   "id": "9a29e36a",
   "metadata": {},
   "outputs": [
    {
     "data": {
      "text/plain": [
       "Unnamed: 0      0\n",
       "Dataset_name    0\n",
       "Author_name     0\n",
       "Author_id       0\n",
       "No_of_files     0\n",
       "size            0\n",
       "Type_of_file    2\n",
       "Upvotes         0\n",
       "Medals          0\n",
       "Usability       0\n",
       "Date            0\n",
       "Day             0\n",
       "Time            0\n",
       "Dataset_link    0\n",
       "dtype: int64"
      ]
     },
     "execution_count": 5,
     "metadata": {},
     "output_type": "execute_result"
    }
   ],
   "source": [
    "df.isnull().sum()"
   ]
  },
  {
   "cell_type": "code",
   "execution_count": 12,
   "id": "30e149ff",
   "metadata": {},
   "outputs": [
    {
     "data": {
      "text/html": [
       "<div>\n",
       "<style scoped>\n",
       "    .dataframe tbody tr th:only-of-type {\n",
       "        vertical-align: middle;\n",
       "    }\n",
       "\n",
       "    .dataframe tbody tr th {\n",
       "        vertical-align: top;\n",
       "    }\n",
       "\n",
       "    .dataframe thead th {\n",
       "        text-align: right;\n",
       "    }\n",
       "</style>\n",
       "<table border=\"1\" class=\"dataframe\">\n",
       "  <thead>\n",
       "    <tr style=\"text-align: right;\">\n",
       "      <th></th>\n",
       "      <th>Unnamed: 0</th>\n",
       "      <th>No_of_files</th>\n",
       "      <th>Upvotes</th>\n",
       "      <th>Usability</th>\n",
       "    </tr>\n",
       "  </thead>\n",
       "  <tbody>\n",
       "    <tr>\n",
       "      <th>count</th>\n",
       "      <td>9158.000000</td>\n",
       "      <td>9.158000e+03</td>\n",
       "      <td>9158.000000</td>\n",
       "      <td>9158.000000</td>\n",
       "    </tr>\n",
       "    <tr>\n",
       "      <th>mean</th>\n",
       "      <td>4962.285324</td>\n",
       "      <td>5.757153e+03</td>\n",
       "      <td>73.424438</td>\n",
       "      <td>7.436525</td>\n",
       "    </tr>\n",
       "    <tr>\n",
       "      <th>std</th>\n",
       "      <td>2878.212666</td>\n",
       "      <td>5.875721e+04</td>\n",
       "      <td>378.870115</td>\n",
       "      <td>2.764569</td>\n",
       "    </tr>\n",
       "    <tr>\n",
       "      <th>min</th>\n",
       "      <td>0.000000</td>\n",
       "      <td>0.000000e+00</td>\n",
       "      <td>0.000000</td>\n",
       "      <td>0.000000</td>\n",
       "    </tr>\n",
       "    <tr>\n",
       "      <th>25%</th>\n",
       "      <td>2477.250000</td>\n",
       "      <td>1.000000e+00</td>\n",
       "      <td>7.000000</td>\n",
       "      <td>5.900000</td>\n",
       "    </tr>\n",
       "    <tr>\n",
       "      <th>50%</th>\n",
       "      <td>4936.000000</td>\n",
       "      <td>2.000000e+00</td>\n",
       "      <td>23.000000</td>\n",
       "      <td>8.500000</td>\n",
       "    </tr>\n",
       "    <tr>\n",
       "      <th>75%</th>\n",
       "      <td>7457.750000</td>\n",
       "      <td>8.000000e+00</td>\n",
       "      <td>51.000000</td>\n",
       "      <td>9.700000</td>\n",
       "    </tr>\n",
       "    <tr>\n",
       "      <th>max</th>\n",
       "      <td>9970.000000</td>\n",
       "      <td>3.999566e+06</td>\n",
       "      <td>27619.000000</td>\n",
       "      <td>10.000000</td>\n",
       "    </tr>\n",
       "  </tbody>\n",
       "</table>\n",
       "</div>"
      ],
      "text/plain": [
       "        Unnamed: 0   No_of_files       Upvotes    Usability\n",
       "count  9158.000000  9.158000e+03   9158.000000  9158.000000\n",
       "mean   4962.285324  5.757153e+03     73.424438     7.436525\n",
       "std    2878.212666  5.875721e+04    378.870115     2.764569\n",
       "min       0.000000  0.000000e+00      0.000000     0.000000\n",
       "25%    2477.250000  1.000000e+00      7.000000     5.900000\n",
       "50%    4936.000000  2.000000e+00     23.000000     8.500000\n",
       "75%    7457.750000  8.000000e+00     51.000000     9.700000\n",
       "max    9970.000000  3.999566e+06  27619.000000    10.000000"
      ]
     },
     "execution_count": 12,
     "metadata": {},
     "output_type": "execute_result"
    }
   ],
   "source": [
    "df.describe()"
   ]
  },
  {
   "cell_type": "code",
   "execution_count": 13,
   "id": "a15f819f",
   "metadata": {},
   "outputs": [],
   "source": [
    "df.dropna(axis=0, inplace=True)"
   ]
  },
  {
   "cell_type": "code",
   "execution_count": 14,
   "id": "0635693c",
   "metadata": {},
   "outputs": [
    {
     "data": {
      "text/plain": [
       "Unnamed: 0      0\n",
       "Dataset_name    0\n",
       "Author_name     0\n",
       "Author_id       0\n",
       "No_of_files     0\n",
       "size            0\n",
       "Type_of_file    0\n",
       "Upvotes         0\n",
       "Medals          0\n",
       "Usability       0\n",
       "Date            0\n",
       "Day             0\n",
       "Time            0\n",
       "Dataset_link    0\n",
       "dtype: int64"
      ]
     },
     "execution_count": 14,
     "metadata": {},
     "output_type": "execute_result"
    }
   ],
   "source": [
    "df.isnull().sum()"
   ]
  },
  {
   "cell_type": "code",
   "execution_count": null,
   "id": "d82ab85d",
   "metadata": {},
   "outputs": [],
   "source": []
  },
  {
   "cell_type": "code",
   "execution_count": null,
   "id": "c5ed918d",
   "metadata": {},
   "outputs": [],
   "source": [
    "df.drop(columns=['Unnamed: 0'], inplace=True)\n",
    "\n",
    "df['features'] = (\n",
    "    df['Dataset_name'].astype(str) + ' ' +\n",
    "    df['Type_of_file'].astype(str) + ' ' +\n",
    "    df['Author_name'].astype(str))"
   ]
  },
  {
   "cell_type": "code",
   "execution_count": 18,
   "id": "afacde06",
   "metadata": {},
   "outputs": [
    {
     "data": {
      "text/plain": [
       "['dataset.pkl']"
      ]
     },
     "execution_count": 18,
     "metadata": {},
     "output_type": "execute_result"
    }
   ],
   "source": [
    "from sklearn.feature_extraction.text import TfidfVectorizer\n",
    "from sklearn.neighbors import NearestNeighbors\n",
    "import joblib\n",
    "\n",
    "vectorizer = TfidfVectorizer()\n",
    "X = vectorizer.fit_transform(df['features'])\n",
    "\n",
    "model = NearestNeighbors(n_neighbors=5, metric='cosine')\n",
    "model.fit(X)\n",
    "\n",
    "joblib.dump(model, 'model.pkl')\n",
    "joblib.dump(vectorizer, 'vectorizer.pkl')\n",
    "joblib.dump(df, 'dataset.pkl')\n"
   ]
  }
 ],
 "metadata": {
  "kernelspec": {
   "display_name": "Python 3",
   "language": "python",
   "name": "python3"
  },
  "language_info": {
   "codemirror_mode": {
    "name": "ipython",
    "version": 3
   },
   "file_extension": ".py",
   "mimetype": "text/x-python",
   "name": "python",
   "nbconvert_exporter": "python",
   "pygments_lexer": "ipython3",
   "version": "3.11.9"
  }
 },
 "nbformat": 4,
 "nbformat_minor": 5
}
